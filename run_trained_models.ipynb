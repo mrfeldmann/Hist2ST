{
 "cells": [
  {
   "cell_type": "code",
   "execution_count": 1,
   "id": "6ed4cb38",
   "metadata": {},
   "outputs": [],
   "source": [
    "#pip install easydl\n"
   ]
  },
  {
   "cell_type": "markdown",
   "id": "4ce959e7",
   "metadata": {},
   "source": [
    "the cSCC dataset is 10x visium technology; the HER2+ dataset ST w/ 100 micrometer spots.\n",
    "\n",
    "thus, it is better to test with cSCC data"
   ]
  },
  {
   "cell_type": "code",
   "execution_count": 2,
   "id": "053309c2-cb6d-4623-83b7-7b0d947998e6",
   "metadata": {},
   "outputs": [
    {
     "name": "stdout",
     "output_type": "stream",
     "text": [
      "[easydl] tensorflow not available!\n"
     ]
    }
   ],
   "source": [
    "import torch\n",
    "import numpy as np\n",
    "import pytorch_lightning as pl\n",
    "import torchvision.transforms as tf\n",
    "from tqdm import tqdm\n",
    "from predict import *\n",
    "\n",
    "#in HIST2ST, collections.Iterable is imported via \n",
    "# from HIST2ST import * --> from transformer import* \n",
    "# --> from easydl import * --> from .pytorch import *\n",
    "# from .utils import * --> from collections import Iterable.\n",
    "# the alias Iterable has been deprecated however,\n",
    "# so you need a workaround: second answer: https://stackoverflow.com/questions/72032032/importerror-cannot-import-name-iterable-from-collections-in-python\n",
    "import collections.abc\n",
    "collections.Iterable = collections.abc.Iterable\n",
    "\n",
    "\n",
    "from HIST2ST import *\n",
    "from dataset import ViT_HER2ST, ViT_SKIN\n",
    "from scipy.stats import pearsonr,spearmanr\n",
    "from torch.utils.data import DataLoader\n",
    "from pytorch_lightning.loggers import TensorBoardLogger\n",
    "from copy import deepcopy as dcp\n",
    "from collections import defaultdict as dfd\n",
    "from sklearn.metrics import adjusted_rand_score as ari_score\n",
    "from sklearn.metrics.cluster import normalized_mutual_info_score as nmi_score"
   ]
  },
  {
   "cell_type": "markdown",
   "id": "b132bfb4-bd29-44fa-bbca-3790b0848fd4",
   "metadata": {},
   "source": [
    "# Data Loading"
   ]
  },
  {
   "cell_type": "code",
   "execution_count": 3,
   "id": "6281d8f2-e5f7-4c26-88bf-5256197b1418",
   "metadata": {
    "tags": []
   },
   "outputs": [],
   "source": [
    "name=[*[f'A{i}' for i in range(2,7)],*[f'B{i}' for i in range(1,7)],\n",
    "      *[f'C{i}' for i in range(1,7)],*[f'D{i}' for i in range(1,7)],\n",
    "      *[f'E{i}' for i in range(1,4)],*[f'F{i}' for i in range(1,4)],*[f'G{i}' for i in range(1,4)]]\n",
    "patients = ['P2', 'P5', 'P9', 'P10']\n",
    "reps = ['rep1', 'rep2', 'rep3']\n",
    "skinname = []\n",
    "for i in patients:\n",
    "    for j in reps:\n",
    "        skinname.append(i+'_ST_'+j)\n",
    "device='cuda'\n",
    "tag='5-7-2-8-4-16-32'\n",
    "k,p,d1,d2,d3,h,c=map(lambda x:int(x),tag.split('-'))\n",
    "dropout=0.2\n",
    "random.seed(12000)\n",
    "np.random.seed(12000)\n",
    "torch.manual_seed(12000)\n",
    "torch.cuda.manual_seed(12000)\n",
    "torch.cuda.manual_seed_all(12000)  \n",
    "torch.backends.cudnn.benchmark = False\n",
    "torch.backends.cudnn.deterministic = True"
   ]
  },
  {
   "cell_type": "markdown",
   "id": "570acabe",
   "metadata": {},
   "source": [
    "\n",
    "# Hist2ST Prediction\n",
    "\n",
    "### To run the trained model, please select the trained model and replace the value of the variable fold with the number in the name of the selected trained model."
   ]
  },
  {
   "cell_type": "code",
   "execution_count": 4,
   "id": "0f19d5d8-6510-493b-9287-ba7215155dc1",
   "metadata": {},
   "outputs": [],
   "source": [
    "fold=5\n",
    "data='cscc'\n",
    "prune='Grid' if data=='her2st' else 'NA'\n",
    "genes=171 if data=='cscc' else 785"
   ]
  },
  {
   "cell_type": "markdown",
   "id": "6b4a276f",
   "metadata": {},
   "source": [
    "the model was trained for the 785 HVGs in HER2+ breast cancer samples. thus, if we use default models, we will predict genes that will most likely not have anything to do with the liver. therefore, it does not make sense to use default models in the first step of the thesis.\n",
    "\n",
    "the selection for the genes has already been made before starting to train as only the selected genes will be normalized and put into self.exp_dict of the dataset"
   ]
  },
  {
   "cell_type": "code",
   "execution_count": 5,
   "id": "9efa90e4",
   "metadata": {},
   "outputs": [
    {
     "name": "stdout",
     "output_type": "stream",
     "text": [
      "['P5_ST_rep3']\n",
      "Loading imgs...\n",
      "Loading metadata...\n"
     ]
    }
   ],
   "source": [
    "#load dataset with the ViT_HER2ST function if data == \"her2st\"\n",
    "#fold is the fold for the LOOCV. \n",
    "#note that the first section A1 was excluded, so fold 5 will be B1 instead of A6\n",
    "testset = pk_load(fold,'test',dataset=data,flatten=False,adj=True,ori=True,prune=prune)"
   ]
  },
  {
   "cell_type": "markdown",
   "id": "3a675c56",
   "metadata": {},
   "source": [
    "\"For evaluating the gene expression\n",
    "prediction accuracy, we conducted leave-one-out cross\u0002validation. Specifically, for each section, we used the left\n",
    "sections to train our model and predict gene expression\n",
    "for the section. All predictions were collected to assess\n",
    "the model performance\""
   ]
  },
  {
   "cell_type": "code",
   "execution_count": 6,
   "id": "f951bf75",
   "metadata": {},
   "outputs": [],
   "source": [
    "test_loader = DataLoader(testset, batch_size=1, num_workers=0, shuffle=False)"
   ]
  },
  {
   "cell_type": "markdown",
   "id": "f0ecff91",
   "metadata": {},
   "source": [
    "the next two lines had to be commented out for the model to run on the cSCC dataset"
   ]
  },
  {
   "cell_type": "code",
   "execution_count": 7,
   "id": "2c3f9af1",
   "metadata": {},
   "outputs": [],
   "source": [
    "#label=testset.label[testset.names[0]]\n",
    "#genes=785"
   ]
  },
  {
   "cell_type": "code",
   "execution_count": 8,
   "id": "c8eb2627",
   "metadata": {},
   "outputs": [
    {
     "name": "stdout",
     "output_type": "stream",
     "text": [
      "n_pos 64\n",
      "dim 1024\n"
     ]
    }
   ],
   "source": [
    "model=Hist2ST(\n",
    "    depth1=d1, depth2=d2,depth3=d3,n_genes=genes, \n",
    "    kernel_size=k, patch_size=p,\n",
    "    heads=h, channel=c, dropout=0.2,\n",
    "    zinb=0.25, nb=False,\n",
    "    bake=5, lamb=0.5, \n",
    ")"
   ]
  },
  {
   "cell_type": "code",
   "execution_count": 9,
   "id": "6fbc4325",
   "metadata": {},
   "outputs": [],
   "source": [
    "#model.load_state_dict(torch.load(f'./model/{fold}-Hist2ST.ckpt'))"
   ]
  },
  {
   "cell_type": "code",
   "execution_count": 10,
   "id": "f712428c",
   "metadata": {},
   "outputs": [
    {
     "data": {
      "text/plain": [
       "<All keys matched successfully>"
      ]
     },
     "execution_count": 10,
     "metadata": {},
     "output_type": "execute_result"
    }
   ],
   "source": [
    "model.load_state_dict(torch.load(f'./model/{fold}_skin-Hist2ST.ckpt'))"
   ]
  },
  {
   "cell_type": "markdown",
   "id": "d0d9fad4-b57d-44a9-82d4-07cad7c59727",
   "metadata": {},
   "source": [
    "internally, the test function runs pred = model(patch, position, adj)[0] the following data from the test_loader"
   ]
  },
  {
   "cell_type": "code",
   "execution_count": 11,
   "id": "5d106ed4-be5d-4ec2-9e94-a8b974049d2a",
   "metadata": {},
   "outputs": [
    {
     "name": "stdout",
     "output_type": "stream",
     "text": [
      "torch.Size([1, 521, 3, 112, 112]) torch.Size([1, 521, 2]) torch.Size([1, 521, 171]) torch.Size([1, 521, 521]) torch.Size([1, 521, 2])\n"
     ]
    }
   ],
   "source": [
    "for patch, position, exp, adj, *_, center in test_loader:\n",
    "    print(patch.shape, position.shape, exp.shape, adj.shape, center.shape)"
   ]
  },
  {
   "cell_type": "code",
   "execution_count": 12,
   "id": "78695be0-e033-49a3-89fe-b5bd36b625ae",
   "metadata": {},
   "outputs": [
    {
     "data": {
      "text/plain": [
       "tensor([[[14, 32],\n",
       "         [14, 36],\n",
       "         [15, 29],\n",
       "         ...,\n",
       "         [42, 36],\n",
       "         [42, 38],\n",
       "         [42, 40]]])"
      ]
     },
     "execution_count": 12,
     "metadata": {},
     "output_type": "execute_result"
    }
   ],
   "source": [
    "position"
   ]
  },
  {
   "cell_type": "code",
   "execution_count": 13,
   "id": "76cfcfb9-3169-46da-9288-2e2be7942d84",
   "metadata": {},
   "outputs": [
    {
     "name": "stderr",
     "output_type": "stream",
     "text": [
      "  0%|                                                                                             | 0/1 [00:00<?, ?it/s]"
     ]
    },
    {
     "name": "stdout",
     "output_type": "stream",
     "text": [
      "patches shape torch.Size([1, 521, 3, 112, 112])\n",
      "centers shape torch.Size([1, 521, 2])\n",
      "centers max 42\n",
      "centers min 14\n"
     ]
    },
    {
     "name": "stderr",
     "output_type": "stream",
     "text": [
      "100%|█████████████████████████████████████████████████████████████████████████████████████| 1/1 [00:02<00:00,  2.32s/it]\n"
     ]
    }
   ],
   "source": [
    "pred, gt = test(model, test_loader,'cuda')"
   ]
  },
  {
   "cell_type": "markdown",
   "id": "4a25d61c",
   "metadata": {},
   "source": [
    "the following cell shows what data is used inside the test function.\n",
    "I dont get what the difference between center and position is yet though"
   ]
  },
  {
   "cell_type": "code",
   "execution_count": 13,
   "id": "520c7787",
   "metadata": {},
   "outputs": [
    {
     "name": "stdout",
     "output_type": "stream",
     "text": [
      "patch: torch.Size([1, 521, 3, 112, 112])\n",
      "position: torch.Size([1, 521, 2]) are the x,y centers for the forward pass. \n",
      "Expression: torch.Size([1, 521, 171])\n",
      "adj = adjacency matrix torch.Size([1, 521, 521])\n",
      "center: torch.Size([1, 521, 2])\n"
     ]
    }
   ],
   "source": [
    "for patch, position,exp, adj, *_, center in test_loader:\n",
    "    print(f\"patch: {patch.shape}\")\n",
    "    print(f\"position: {position.shape} are the x,y centers for the forward pass. \")\n",
    "    print(f\"Expression: {exp.shape}\")\n",
    "    print(f\"adj = adjacency matrix {adj.shape}\")\n",
    "    print(f\"center: {center.shape}\")"
   ]
  },
  {
   "cell_type": "code",
   "execution_count": 14,
   "id": "0fdb3e26",
   "metadata": {},
   "outputs": [
    {
     "data": {
      "text/plain": [
       "(AnnData object with n_obs × n_vars = 521 × 171\n",
       "     obsm: 'spatial',\n",
       " AnnData object with n_obs × n_vars = 521 × 171\n",
       "     obsm: 'spatial')"
      ]
     },
     "execution_count": 14,
     "metadata": {},
     "output_type": "execute_result"
    }
   ],
   "source": [
    "pred, gt\n"
   ]
  },
  {
   "cell_type": "markdown",
   "id": "d2aefc5b",
   "metadata": {},
   "source": [
    "521 spots (?) x 171 genes"
   ]
  },
  {
   "cell_type": "code",
   "execution_count": 15,
   "id": "786b8c3c",
   "metadata": {},
   "outputs": [
    {
     "data": {
      "text/plain": [
       "(521, 2)"
      ]
     },
     "execution_count": 15,
     "metadata": {},
     "output_type": "execute_result"
    }
   ],
   "source": [
    "pred.obsm[\"spatial\"].shape"
   ]
  },
  {
   "cell_type": "code",
   "execution_count": 16,
   "id": "9c423df4",
   "metadata": {},
   "outputs": [
    {
     "data": {
      "text/plain": [
       "array([[4581., 8002.],\n",
       "       [4586., 8809.],\n",
       "       [4766., 7408.],\n",
       "       ...,\n",
       "       [9634., 8815.],\n",
       "       [9628., 9224.],\n",
       "       [9623., 9620.]], dtype=float32)"
      ]
     },
     "execution_count": 16,
     "metadata": {},
     "output_type": "execute_result"
    }
   ],
   "source": [
    "# spatial are the center (ct) locations of the spots\n",
    "pred.obsm[\"spatial\"]"
   ]
  },
  {
   "cell_type": "code",
   "execution_count": 17,
   "id": "a99c1ae0",
   "metadata": {},
   "outputs": [
    {
     "data": {
      "text/plain": [
       "(521, 171)"
      ]
     },
     "execution_count": 17,
     "metadata": {},
     "output_type": "execute_result"
    }
   ],
   "source": [
    "pred.X.shape"
   ]
  },
  {
   "cell_type": "code",
   "execution_count": 18,
   "id": "b73d5390",
   "metadata": {},
   "outputs": [],
   "source": [
    "#get_R??"
   ]
  },
  {
   "cell_type": "code",
   "execution_count": 19,
   "id": "11707f64",
   "metadata": {},
   "outputs": [
    {
     "data": {
      "text/plain": [
       "2"
      ]
     },
     "execution_count": 19,
     "metadata": {},
     "output_type": "execute_result"
    }
   ],
   "source": [
    "#returns tuple of all array(r values), array(all pvalues)\n",
    "len(get_R(pred,gt))"
   ]
  },
  {
   "cell_type": "code",
   "execution_count": 20,
   "id": "4266cce3-6bc7-4f5b-81d5-d03d3ae089c4",
   "metadata": {
    "pycharm": {
     "name": "#%%\n"
    }
   },
   "outputs": [
    {
     "name": "stdout",
     "output_type": "stream",
     "text": [
      "Pearson Correlation: 0.10740173624584474\n"
     ]
    }
   ],
   "source": [
    "R=get_R(pred,gt)[0]\n",
    "print('Pearson Correlation:',np.nanmean(R))\n",
    "\n",
    "\n",
    "# clus,ARI=cluster(pred,label)\n",
    "# print('ARI:',ARI)\n"
   ]
  }
 ],
 "metadata": {
  "kernelspec": {
   "display_name": "Python 3 (ipykernel)",
   "language": "python",
   "name": "python3"
  },
  "language_info": {
   "codemirror_mode": {
    "name": "ipython",
    "version": 3
   },
   "file_extension": ".py",
   "mimetype": "text/x-python",
   "name": "python",
   "nbconvert_exporter": "python",
   "pygments_lexer": "ipython3",
   "version": "3.10.11"
  },
  "pycharm": {
   "stem_cell": {
    "cell_type": "raw",
    "metadata": {
     "collapsed": false
    },
    "source": []
   }
  }
 },
 "nbformat": 4,
 "nbformat_minor": 5
}
